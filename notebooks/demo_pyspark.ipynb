{
 "cells": [
  {
   "cell_type": "markdown",
   "metadata": {},
   "source": [
    "# Demo: Submit PySpark job to Spark Master\n",
    "\n",
    "This notebook shows a minimal example to submit the example PySpark job and then open the Spark UI. It assumes the devcontainer (Codespaces) with docker-compose is running."
   ]
  },
  {
   "cell_type": "code",
   "execution_count": null,
   "metadata": {},
   "outputs": [],
   "source": [
    "# Run the pyspark example via docker exec into spark-master or use spark-submit from host.\n",
    "!docker-compose exec -T spark-master bash -lc \"spark-submit --master spark://spark-master:7077 /workspace/examples/pyspark_streaming_kafka.py\" &"
   ]
  },
  {
   "cell_type": "markdown",
   "metadata": {},
   "source": [
    "Open the Spark Master UI: http://localhost:8080\n",
    "Open Kafdrop to inspect the Kafka topic: http://localhost:9000\n",
    "Open HDFS NameNode UI: http://localhost:9870"
   ]
  }
 ],
 "metadata": {
  "kernelspec": {
   "display_name": "Python 3",
   "language": "python",
   "name": "python3"
  },
  "language_info": {
   "name": "python",
   "version": "3.8"
  }
 },
 "nbformat": 4,
 "nbformat_minor": 2
}
